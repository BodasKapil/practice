{
  "nbformat": 4,
  "nbformat_minor": 0,
  "metadata": {
    "colab": {
      "provenance": [],
      "authorship_tag": "ABX9TyPpjLF3ke5na8bLVJS4mqGW",
      "include_colab_link": true
    },
    "kernelspec": {
      "name": "python3",
      "display_name": "Python 3"
    },
    "language_info": {
      "name": "python"
    }
  },
  "cells": [
    {
      "cell_type": "markdown",
      "metadata": {
        "id": "view-in-github",
        "colab_type": "text"
      },
      "source": [
        "<a href=\"https://colab.research.google.com/github/BodasKapil/practice/blob/main/NLP_EXP4_68.ipynb\" target=\"_parent\"><img src=\"https://colab.research.google.com/assets/colab-badge.svg\" alt=\"Open In Colab\"/></a>"
      ]
    },
    {
      "cell_type": "code",
      "execution_count": null,
      "metadata": {
        "colab": {
          "base_uri": "https://localhost:8080/"
        },
        "id": "9koEWf_NDhDQ",
        "outputId": "2c0e29ba-4e4f-4886-89b4-4a967400df3e"
      },
      "outputs": [
        {
          "output_type": "stream",
          "name": "stdout",
          "text": [
            "Morpheme: play, Generated Word: unplayed\n",
            "Morpheme: work, Generated Word: disworking\n",
            "Morpheme: run, Generated Word: preruned\n",
            "Morpheme: light, Generated Word: relightes\n",
            "Morpheme: code, Generated Word: precodeing\n",
            "Morpheme: read, Generated Word: unreaded\n",
            "Morpheme: build, Generated Word: disbuilding\n",
            "Morpheme: move, Generated Word: dismoveed\n"
          ]
        }
      ],
      "source": [
        "import random\n",
        "\n",
        "# Morpheme database (suffixes and prefixes)\n",
        "suffixes = ['ly', 'ing', 'ed', 'es']\n",
        "prefixes = ['un', 're', 'pre', 'dis']\n",
        "\n",
        "# Function to perform morphological analysis and generate new words\n",
        "def generate_word(morpheme):\n",
        "    # Randomly choose a prefix and a suffix\n",
        "    prefix = random.choice(prefixes)\n",
        "    suffix = random.choice(suffixes)\n",
        "\n",
        "    # Combine morpheme, prefix, and suffix to generate a new word\n",
        "    new_word = prefix + morpheme + suffix\n",
        "\n",
        "    return new_word\n",
        "\n",
        "# List of sample morphemes for analysis and word generation\n",
        "morpheme_list = [\"play\", \"work\", \"run\", \"light\", \"code\", \"read\", \"build\", \"move\"]\n",
        "\n",
        "# Iterate through the list, generate a word for each morpheme, and print the result\n",
        "for morpheme in morpheme_list:\n",
        "    generated_word = generate_word(morpheme)\n",
        "    print(f\"Morpheme: {morpheme}, Generated Word: {generated_word}\")\n"
      ]
    },
    {
      "cell_type": "code",
      "source": [
        "import nltk\n",
        "nltk.download('punkt')\n",
        "nltk.download('wordnet')\n",
        "nltk.download('omw-1.4')\n"
      ],
      "metadata": {
        "colab": {
          "base_uri": "https://localhost:8080/"
        },
        "id": "FYIWfM-iFB2B",
        "outputId": "b70e05ed-90c6-4183-d3a2-8b614f194af5"
      },
      "execution_count": null,
      "outputs": [
        {
          "output_type": "stream",
          "name": "stderr",
          "text": [
            "[nltk_data] Downloading package punkt to /root/nltk_data...\n",
            "[nltk_data]   Unzipping tokenizers/punkt.zip.\n",
            "[nltk_data] Downloading package wordnet to /root/nltk_data...\n",
            "[nltk_data] Downloading package omw-1.4 to /root/nltk_data...\n"
          ]
        },
        {
          "output_type": "execute_result",
          "data": {
            "text/plain": [
              "True"
            ]
          },
          "metadata": {},
          "execution_count": 10
        }
      ]
    },
    {
      "cell_type": "code",
      "source": [
        "from nltk.stem import PorterStemmer\n",
        "from nltk.corpus import wordnet\n",
        "from nltk.tokenize import word_tokenize\n",
        "\n",
        "def analyze_word(word):\n",
        "    stemmer = PorterStemmer()\n",
        "\n",
        "    stem = stemmer.stem(word)\n",
        "\n",
        "    lemma = None\n",
        "    synsets = wordnet.synsets(word)\n",
        "\n",
        "    if synsets:\n",
        "        lemma = synsets[0].lemmas()[0].name()\n",
        "\n",
        "    plural = \"plural\" if lemma and stem != lemma else \"singular\"\n",
        "\n",
        "    tense = \"present\"\n",
        "    pos = None\n",
        "\n",
        "    for synset in synsets:\n",
        "        pos = synset.pos()\n",
        "\n",
        "        if \"past\" in synset.name():\n",
        "            tense = \"past\"\n",
        "            break\n",
        "\n",
        "    return {\n",
        "        \"word\": word,\n",
        "        \"root\": stem,\n",
        "        \"singular/plural\": plural,\n",
        "        \"tense\": tense,\n",
        "        \"POS\": pos\n",
        "    }\n",
        "\n",
        "input_text = input(\"Enter a sentence: \")\n",
        "tokens = word_tokenize(input_text)\n",
        "\n",
        "print(\"{:<15} {:<15} {:<15} {:<15} {:<15}\".format(\"word\", \"root\", \"singular/plural\", \"tense\", \"POS\"))\n",
        "print(\"-\" * 75)\n",
        "\n",
        "for token in tokens:\n",
        "    analysis = analyze_word(token)\n",
        "    analysis_str = \"{:<15} {:<15} {:<15} {:<15} {:<15}\".format(\n",
        "        analysis[\"word\"],\n",
        "        analysis[\"root\"],\n",
        "        analysis[\"singular/plural\"],\n",
        "        analysis[\"tense\"],\n",
        "        analysis[\"POS\"]\n",
        "    )\n",
        "    print(analysis_str)\n",
        "\n",
        "  #dog runs quickly\n",
        "  #play played plays playing\n"
      ],
      "metadata": {
        "colab": {
          "base_uri": "https://localhost:8080/"
        },
        "id": "05WktPekDmVx",
        "outputId": "fc79fe3f-4bdf-479b-f1fd-4d713887cee8"
      },
      "execution_count": null,
      "outputs": [
        {
          "output_type": "stream",
          "name": "stdout",
          "text": [
            "Enter a sentence: play played plays playing\n",
            "word            root            singular/plural tense           POS            \n",
            "---------------------------------------------------------------------------\n",
            "play            play            singular        present         v              \n",
            "played          play            singular        present         a              \n",
            "plays           play            singular        present         v              \n",
            "playing         play            plural          present         v              \n"
          ]
        }
      ]
    },
    {
      "cell_type": "code",
      "source": [],
      "metadata": {
        "id": "iSczGQXgFaIK"
      },
      "execution_count": null,
      "outputs": []
    }
  ]
}